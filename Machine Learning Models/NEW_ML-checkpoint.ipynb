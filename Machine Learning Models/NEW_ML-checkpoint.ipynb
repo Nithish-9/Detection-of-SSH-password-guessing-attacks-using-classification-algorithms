{
 "cells": [
  {
   "cell_type": "markdown",
   "metadata": {
    "id": "fStLSg3WYYmt"
   },
   "source": [
    "# Importing the required libraries"
   ]
  },
  {
   "cell_type": "code",
   "execution_count": null,
   "metadata": {},
   "outputs": [],
   "source": []
  },
  {
   "cell_type": "code",
   "execution_count": 43,
   "metadata": {
    "id": "fzxsFJYuYT7L"
   },
   "outputs": [],
   "source": [
    "import numpy as np\n",
    "import pandas as pd\n",
    "import xgboost as xgb\n",
    "from sklearn.model_selection import train_test_split\n",
    "from sklearn.preprocessing import StandardScaler\n",
    "from tensorflow.keras.models import Sequential\n",
    "from tensorflow.keras.layers import LSTM, Dense, Dropout, Bidirectional,Conv1D,MaxPooling1D,Flatten,BatchNormalization\n",
    "from sklearn.metrics import precision_score, recall_score, accuracy_score, f1_score,classification_report\n",
    "from tensorflow.keras.optimizers import Adam\n",
    "from sklearn.discriminant_analysis import QuadraticDiscriminantAnalysis\n",
    "from sklearn.linear_model import LogisticRegression\n",
    "from tensorflow import keras\n",
    "from tensorflow.keras import layers\n",
    "from sklearn.neighbors import KNeighborsClassifier\n",
    "from sklearn.discriminant_analysis import LinearDiscriminantAnalysis\n",
    "from sklearn.tree import DecisionTreeClassifier\n",
    "from sklearn.naive_bayes import BernoulliNB  # Import BernoulliNB"
   ]
  },
  {
   "cell_type": "markdown",
   "metadata": {
    "id": "KCmFOMa_aNtw"
   },
   "source": [
    "#Load the dataset"
   ]
  },
  {
   "cell_type": "code",
   "execution_count": 44,
   "metadata": {
    "id": "nO-9Or1TaZVc"
   },
   "outputs": [],
   "source": [
    "# Load the dataset\n",
    "df = pd.read_csv('C:/Users/Pratham/Downloads/csv_data.csv')"
   ]
  },
  {
   "cell_type": "markdown",
   "metadata": {
    "id": "z-KWylPnadXB"
   },
   "source": [
    "# Drop rows with label 0 (malicious) to balance the dataset"
   ]
  },
  {
   "cell_type": "code",
   "execution_count": 45,
   "metadata": {
    "id": "X5HwzXQYaesU"
   },
   "outputs": [],
   "source": [
    "rows_to_drop = df[df['Label'] == 0].index[:1333]\n",
    "df = df.drop(rows_to_drop).reset_index(drop=True)"
   ]
  },
  {
   "cell_type": "markdown",
   "metadata": {
    "id": "gdRQR13daiLP"
   },
   "source": [
    "# Drop 'Flow ID' column"
   ]
  },
  {
   "cell_type": "code",
   "execution_count": 46,
   "metadata": {
    "id": "AMwmW5IEam2Z"
   },
   "outputs": [],
   "source": [
    "df = df.drop(['Flow ID'], axis=1)"
   ]
  },
  {
   "cell_type": "markdown",
   "metadata": {
    "id": "jbppQuiSanpb"
   },
   "source": [
    "# Split the data into features (x) and labels (y)"
   ]
  },
  {
   "cell_type": "code",
   "execution_count": 47,
   "metadata": {
    "id": "GkqL3Lz7ard7"
   },
   "outputs": [],
   "source": [
    "x = df.drop(['Label'], axis=1)\n",
    "y = df['Label']"
   ]
  },
  {
   "cell_type": "markdown",
   "metadata": {
    "id": "VsWkIM-Hau2U"
   },
   "source": [
    "# Standardize features"
   ]
  },
  {
   "cell_type": "code",
   "execution_count": 48,
   "metadata": {
    "id": "Sv-UIPCvay4_"
   },
   "outputs": [],
   "source": [
    "scaler = StandardScaler()\n",
    "x = scaler.fit_transform(x)"
   ]
  },
  {
   "cell_type": "markdown",
   "metadata": {
    "id": "kq_Dv-S2a2AW"
   },
   "source": [
    "# Split the data into training and testing sets"
   ]
  },
  {
   "cell_type": "code",
   "execution_count": 49,
   "metadata": {
    "id": "aIDJeVJra3AG"
   },
   "outputs": [],
   "source": [
    "x_train, x_test, y_train, y_test = train_test_split(x, y, test_size=0.2, random_state=42)"
   ]
  },
  {
   "cell_type": "markdown",
   "metadata": {
    "id": "2rkCK0-ba6fk"
   },
   "source": [
    "# ***#NITHISH Implemented Models***"
   ]
  },
  {
   "cell_type": "markdown",
   "metadata": {
    "id": "Svy0JbwybSMm"
   },
   "source": [
    "#LSTM Model"
   ]
  },
  {
   "cell_type": "code",
   "execution_count": 50,
   "metadata": {
    "colab": {
     "base_uri": "https://localhost:8080/"
    },
    "id": "ba0zPEp9cPmO",
    "outputId": "cd6d88dd-652f-400a-c879-84decce8d079"
   },
   "outputs": [
    {
     "name": "stdout",
     "output_type": "stream",
     "text": [
      "Epoch 1/10\n",
      "319/319 [==============================] - 13s 17ms/step - loss: 0.4393 - accuracy: 0.7896 - val_loss: 0.3729 - val_accuracy: 0.8159\n",
      "Epoch 2/10\n",
      "319/319 [==============================] - 3s 10ms/step - loss: 0.3308 - accuracy: 0.8269 - val_loss: 0.3045 - val_accuracy: 0.8559\n",
      "Epoch 3/10\n",
      "319/319 [==============================] - 3s 10ms/step - loss: 0.2675 - accuracy: 0.8549 - val_loss: 0.2465 - val_accuracy: 0.8697\n",
      "Epoch 4/10\n",
      "319/319 [==============================] - 3s 11ms/step - loss: 0.2191 - accuracy: 0.9040 - val_loss: 0.2004 - val_accuracy: 0.9219\n",
      "Epoch 5/10\n",
      "319/319 [==============================] - 3s 11ms/step - loss: 0.1840 - accuracy: 0.9186 - val_loss: 0.1708 - val_accuracy: 0.9242\n",
      "Epoch 6/10\n",
      "319/319 [==============================] - 3s 11ms/step - loss: 0.1619 - accuracy: 0.9225 - val_loss: 0.1526 - val_accuracy: 0.9344\n",
      "Epoch 7/10\n",
      "319/319 [==============================] - 3s 10ms/step - loss: 0.1497 - accuracy: 0.9286 - val_loss: 0.1462 - val_accuracy: 0.9364\n",
      "Epoch 8/10\n",
      "319/319 [==============================] - 3s 11ms/step - loss: 0.1450 - accuracy: 0.9287 - val_loss: 0.1423 - val_accuracy: 0.9333\n",
      "Epoch 9/10\n",
      "319/319 [==============================] - 4s 12ms/step - loss: 0.1405 - accuracy: 0.9278 - val_loss: 0.1368 - val_accuracy: 0.9364\n",
      "Epoch 10/10\n",
      "319/319 [==============================] - 4s 11ms/step - loss: 0.1382 - accuracy: 0.9295 - val_loss: 0.1338 - val_accuracy: 0.9340\n",
      "100/100 [==============================] - 2s 4ms/step\n",
      "Accuracy   :  93.4359296482412\n",
      "Precision  :  89.98242530755711\n",
      "Recall     :  97.58576874205845\n",
      "F1 Score   :  93.6299908564462\n"
     ]
    }
   ],
   "source": [
    "# Reshape the data for LSTM input (samples, time steps, features)\n",
    "lstm_x_train = x_train.reshape(x_train.shape[0], 1, x_train.shape[1])\n",
    "lstm_x_test = x_test.reshape(x_test.shape[0], 1, x_test.shape[1])\n",
    "\n",
    "# Build the LSTM model\n",
    "lstm_model = Sequential()\n",
    "lstm_model.add(LSTM(128, input_shape=(lstm_x_train.shape[1], lstm_x_train.shape[2])))\n",
    "lstm_model.add(Dropout(0.2))\n",
    "lstm_model.add(Dense(1, activation='sigmoid'))\n",
    "\n",
    "# Compile the model\n",
    "lstm_model.compile(optimizer='adam', loss='binary_crossentropy', metrics=['accuracy'])\n",
    "\n",
    "# Train the model\n",
    "lstm_model.fit(lstm_x_train, y_train, epochs=10, batch_size=32, validation_split=0.2)\n",
    "\n",
    "# Generate predictions from the LSTM model\n",
    "lstm_preds = (lstm_model.predict(lstm_x_test) > 0.5).astype(\"int32\")\n",
    "\n",
    "lstm_accuracy = accuracy_score(y_test, lstm_preds)*100\n",
    "lstm_precision = precision_score(y_test,lstm_preds)*100;\n",
    "lstm_recall = recall_score(y_test,lstm_preds)*100;\n",
    "lstm_f1_score = f1_score(y_test,lstm_preds)*100;\n",
    "\n",
    "\n",
    "print(\"Accuracy   : \",lstm_accuracy)\n",
    "print(\"Precision  : \",lstm_precision)\n",
    "print(\"Recall     : \",lstm_recall)\n",
    "print(\"F1 Score   : \",lstm_f1_score)\n"
   ]
  },
  {
   "cell_type": "markdown",
   "metadata": {
    "id": "loJLFX_GbTEt"
   },
   "source": [
    "#Bi-LSTM Model"
   ]
  },
  {
   "cell_type": "code",
   "execution_count": 51,
   "metadata": {
    "colab": {
     "base_uri": "https://localhost:8080/"
    },
    "id": "0BLfJfPtcGJ9",
    "outputId": "0bc67243-2dad-4c2a-f6be-8b31cb49b099"
   },
   "outputs": [
    {
     "name": "stdout",
     "output_type": "stream",
     "text": [
      "Epoch 1/10\n",
      "319/319 [==============================] - 35s 33ms/step - loss: 0.3711 - accuracy: 0.8185 - val_loss: 0.2815 - val_accuracy: 0.8567\n",
      "Epoch 2/10\n",
      "319/319 [==============================] - 6s 18ms/step - loss: 0.1984 - accuracy: 0.9044 - val_loss: 0.1420 - val_accuracy: 0.9250\n",
      "Epoch 3/10\n",
      "319/319 [==============================] - 5s 17ms/step - loss: 0.1405 - accuracy: 0.9276 - val_loss: 0.1399 - val_accuracy: 0.9317\n",
      "Epoch 4/10\n",
      "319/319 [==============================] - 6s 17ms/step - loss: 0.1320 - accuracy: 0.9286 - val_loss: 0.1394 - val_accuracy: 0.9211\n",
      "Epoch 5/10\n",
      "319/319 [==============================] - 6s 18ms/step - loss: 0.1276 - accuracy: 0.9301 - val_loss: 0.1347 - val_accuracy: 0.9258\n",
      "Epoch 6/10\n",
      "319/319 [==============================] - 5s 17ms/step - loss: 0.1233 - accuracy: 0.9305 - val_loss: 0.1340 - val_accuracy: 0.9317\n",
      "Epoch 7/10\n",
      "319/319 [==============================] - 6s 18ms/step - loss: 0.1207 - accuracy: 0.9325 - val_loss: 0.1327 - val_accuracy: 0.9336\n",
      "Epoch 8/10\n",
      "319/319 [==============================] - 6s 18ms/step - loss: 0.1167 - accuracy: 0.9319 - val_loss: 0.1353 - val_accuracy: 0.9329\n",
      "Epoch 9/10\n",
      "319/319 [==============================] - 5s 15ms/step - loss: 0.1147 - accuracy: 0.9314 - val_loss: 0.1352 - val_accuracy: 0.9336\n",
      "Epoch 10/10\n",
      "319/319 [==============================] - 6s 18ms/step - loss: 0.1136 - accuracy: 0.9339 - val_loss: 0.1348 - val_accuracy: 0.9344\n",
      "100/100 [==============================] - 6s 7ms/step\n",
      "Accuracy   :  93.75\n",
      "Precision  :  88.99602949517868\n",
      "Recall     :  99.68233799237612\n",
      "F1 Score   :  94.03655978423734\n"
     ]
    }
   ],
   "source": [
    "# Reshape the data for Bi-LSTM input (samples, time steps, features)\n",
    "bi_lstm_x_train = x_train.reshape(x_train.shape[0], 1, x_train.shape[1])\n",
    "bi_lstm_x_test = x_test.reshape(x_test.shape[0], 1, x_test.shape[1])\n",
    "\n",
    "# Build the Bi-LSTM model\n",
    "bi_lstm_model = Sequential()\n",
    "bi_lstm_model.add(Bidirectional(LSTM(128, return_sequences=True), input_shape=(bi_lstm_x_train.shape[1], bi_lstm_x_train.shape[2])))\n",
    "bi_lstm_model.add(Bidirectional(LSTM(64)))\n",
    "bi_lstm_model.add(Dropout(0.2))\n",
    "bi_lstm_model.add(Dense(1, activation='sigmoid'))\n",
    "\n",
    "# Compile the model\n",
    "bi_lstm_model.compile(optimizer='adam', loss='binary_crossentropy', metrics=['accuracy'])\n",
    "\n",
    "# Train the model\n",
    "bi_lstm_model.fit(bi_lstm_x_train, y_train, epochs=10, batch_size=32, validation_split=0.2)\n",
    "\n",
    "# Generate predictions from the Bi-LSTM model\n",
    "bi_lstm_preds = (bi_lstm_model.predict(bi_lstm_x_test) > 0.5).astype(\"int32\")\n",
    "\n",
    "bi_lstm_accuracy = accuracy_score(y_test, bi_lstm_preds)*100\n",
    "bi_lstm_precision = precision_score(y_test,bi_lstm_preds)*100;\n",
    "bi_lstm_recall = recall_score(y_test,bi_lstm_preds)*100;\n",
    "bi_lstm_f1_score = f1_score(y_test,bi_lstm_preds)*100;\n",
    "\n",
    "print(\"Accuracy   : \",bi_lstm_accuracy)\n",
    "print(\"Precision  : \",bi_lstm_precision)\n",
    "print(\"Recall     : \",bi_lstm_recall)\n",
    "print(\"F1 Score   : \",bi_lstm_f1_score)"
   ]
  },
  {
   "cell_type": "markdown",
   "metadata": {
    "id": "Qo8jMcS6bRoQ"
   },
   "source": [
    "#Stacked LSTM Model"
   ]
  },
  {
   "cell_type": "code",
   "execution_count": 52,
   "metadata": {
    "colab": {
     "base_uri": "https://localhost:8080/"
    },
    "id": "8OD6F9pOb8kf",
    "outputId": "7e531442-4b9f-456d-f0dd-c41bc982805a"
   },
   "outputs": [
    {
     "name": "stdout",
     "output_type": "stream",
     "text": [
      "Epoch 1/10\n",
      "319/319 [==============================] - 30s 31ms/step - loss: 0.4180 - accuracy: 0.8130 - val_loss: 0.3071 - val_accuracy: 0.8182\n",
      "Epoch 2/10\n",
      "319/319 [==============================] - 6s 18ms/step - loss: 0.2404 - accuracy: 0.8780 - val_loss: 0.1466 - val_accuracy: 0.9258\n",
      "Epoch 3/10\n",
      "319/319 [==============================] - 6s 19ms/step - loss: 0.1394 - accuracy: 0.9272 - val_loss: 0.1339 - val_accuracy: 0.9333\n",
      "Epoch 4/10\n",
      "319/319 [==============================] - 6s 18ms/step - loss: 0.1294 - accuracy: 0.9300 - val_loss: 0.1284 - val_accuracy: 0.9321\n",
      "Epoch 5/10\n",
      "319/319 [==============================] - 6s 18ms/step - loss: 0.1241 - accuracy: 0.9305 - val_loss: 0.1266 - val_accuracy: 0.9344\n",
      "Epoch 6/10\n",
      "319/319 [==============================] - 6s 19ms/step - loss: 0.1235 - accuracy: 0.9319 - val_loss: 0.1248 - val_accuracy: 0.9352\n",
      "Epoch 7/10\n",
      "319/319 [==============================] - 6s 18ms/step - loss: 0.1182 - accuracy: 0.9342 - val_loss: 0.1209 - val_accuracy: 0.9360\n",
      "Epoch 8/10\n",
      "319/319 [==============================] - 6s 19ms/step - loss: 0.1173 - accuracy: 0.9320 - val_loss: 0.1219 - val_accuracy: 0.9348\n",
      "Epoch 9/10\n",
      "319/319 [==============================] - 6s 19ms/step - loss: 0.1152 - accuracy: 0.9336 - val_loss: 0.1183 - val_accuracy: 0.9348\n",
      "Epoch 10/10\n",
      "319/319 [==============================] - 5s 17ms/step - loss: 0.1157 - accuracy: 0.9335 - val_loss: 0.1178 - val_accuracy: 0.9360\n",
      "100/100 [==============================] - 4s 7ms/step\n",
      "Accuracy   :  93.49874371859298\n",
      "Precision  :  89.85422740524781\n",
      "Recall     :  97.90343074968234\n",
      "F1 Score   :  93.7062937062937\n"
     ]
    }
   ],
   "source": [
    "# Reshape the data for Stacked LSTM input (samples, time steps, features)\n",
    "stacked_lstm_x_train = x_train.reshape(x_train.shape[0], 1, x_train.shape[1])\n",
    "stacked_lstm_x_test = x_test.reshape(x_test.shape[0], 1, x_test.shape[1])\n",
    "\n",
    "# Build the Stacked LSTM model\n",
    "stacked_lstm_model = Sequential()\n",
    "stacked_lstm_model.add(LSTM(128, return_sequences=True, input_shape=(stacked_lstm_x_train.shape[1], stacked_lstm_x_train.shape[2])))\n",
    "stacked_lstm_model.add(LSTM(64, return_sequences=True))\n",
    "stacked_lstm_model.add(LSTM(32))\n",
    "stacked_lstm_model.add(Dropout(0.2))\n",
    "stacked_lstm_model.add(Dense(1, activation='sigmoid'))\n",
    "\n",
    "# Compile the model\n",
    "stacked_lstm_model.compile(optimizer='adam', loss='binary_crossentropy', metrics=['accuracy'])\n",
    "\n",
    "# Train the model\n",
    "stacked_lstm_model.fit(stacked_lstm_x_train, y_train, epochs=10, batch_size=32, validation_split=0.2)\n",
    "\n",
    "# Generate predictions from the Stacked LSTM model\n",
    "stacked_lstm_preds = (stacked_lstm_model.predict(stacked_lstm_x_test) > 0.5).astype(\"int32\")\n",
    "\n",
    "\n",
    "stacked_lstm_accuracy = accuracy_score(y_test, stacked_lstm_preds)*100\n",
    "stacked_lstm_precision = precision_score(y_test,stacked_lstm_preds)*100;\n",
    "stacked_lstm_recall = recall_score(y_test,stacked_lstm_preds)*100;\n",
    "stacked_lstm_f1_score = f1_score(y_test,stacked_lstm_preds)*100;\n",
    "\n",
    "print(\"Accuracy   : \",stacked_lstm_accuracy)\n",
    "print(\"Precision  : \",stacked_lstm_precision)\n",
    "print(\"Recall     : \",stacked_lstm_recall)\n",
    "print(\"F1 Score   : \",stacked_lstm_f1_score)"
   ]
  },
  {
   "cell_type": "markdown",
   "metadata": {
    "id": "xXVK5RWXbQzr"
   },
   "source": [
    "#1D-CNN"
   ]
  },
  {
   "cell_type": "code",
   "execution_count": 53,
   "metadata": {
    "id": "u_xLvbBibyV0"
   },
   "outputs": [
    {
     "name": "stdout",
     "output_type": "stream",
     "text": [
      "Epoch 1/20\n",
      "160/160 [==============================] - 6s 19ms/step - loss: 0.2723 - accuracy: 0.8848 - val_loss: 0.4144 - val_accuracy: 0.9329\n",
      "Epoch 2/20\n",
      "160/160 [==============================] - 2s 14ms/step - loss: 0.1812 - accuracy: 0.9183 - val_loss: 0.2571 - val_accuracy: 0.9270\n",
      "Epoch 3/20\n",
      "160/160 [==============================] - 2s 16ms/step - loss: 0.1640 - accuracy: 0.9174 - val_loss: 0.1875 - val_accuracy: 0.9333\n",
      "Epoch 4/20\n",
      "160/160 [==============================] - 2s 15ms/step - loss: 0.1528 - accuracy: 0.9202 - val_loss: 0.1554 - val_accuracy: 0.9336\n",
      "Epoch 5/20\n",
      "160/160 [==============================] - 3s 16ms/step - loss: 0.1487 - accuracy: 0.9230 - val_loss: 0.1641 - val_accuracy: 0.9329\n",
      "Epoch 6/20\n",
      "160/160 [==============================] - 3s 16ms/step - loss: 0.1483 - accuracy: 0.9224 - val_loss: 0.2387 - val_accuracy: 0.9344\n",
      "Epoch 7/20\n",
      "160/160 [==============================] - 2s 15ms/step - loss: 0.1453 - accuracy: 0.9250 - val_loss: 0.2085 - val_accuracy: 0.9340\n",
      "Epoch 8/20\n",
      "160/160 [==============================] - 2s 13ms/step - loss: 0.1459 - accuracy: 0.9224 - val_loss: 0.1965 - val_accuracy: 0.9336\n",
      "Epoch 9/20\n",
      "160/160 [==============================] - 2s 13ms/step - loss: 0.1386 - accuracy: 0.9234 - val_loss: 0.2440 - val_accuracy: 0.9340\n",
      "Epoch 10/20\n",
      "160/160 [==============================] - 2s 15ms/step - loss: 0.1365 - accuracy: 0.9279 - val_loss: 0.1926 - val_accuracy: 0.9336\n",
      "Epoch 11/20\n",
      "160/160 [==============================] - 3s 16ms/step - loss: 0.1438 - accuracy: 0.9226 - val_loss: 0.1716 - val_accuracy: 0.9325\n",
      "Epoch 12/20\n",
      "160/160 [==============================] - 3s 16ms/step - loss: 0.1402 - accuracy: 0.9250 - val_loss: 0.2311 - val_accuracy: 0.9340\n",
      "Epoch 13/20\n",
      "160/160 [==============================] - 3s 16ms/step - loss: 0.1358 - accuracy: 0.9266 - val_loss: 0.2488 - val_accuracy: 0.9348\n",
      "Epoch 14/20\n",
      "160/160 [==============================] - 2s 14ms/step - loss: 0.1374 - accuracy: 0.9232 - val_loss: 0.2574 - val_accuracy: 0.9340\n",
      "Epoch 15/20\n",
      "160/160 [==============================] - 2s 13ms/step - loss: 0.1358 - accuracy: 0.9226 - val_loss: 0.2107 - val_accuracy: 0.9352\n",
      "Epoch 16/20\n",
      "160/160 [==============================] - 2s 14ms/step - loss: 0.1361 - accuracy: 0.9262 - val_loss: 0.2118 - val_accuracy: 0.9348\n",
      "Epoch 17/20\n",
      "160/160 [==============================] - 2s 15ms/step - loss: 0.1312 - accuracy: 0.9279 - val_loss: 0.2086 - val_accuracy: 0.9348\n",
      "Epoch 18/20\n",
      "160/160 [==============================] - 3s 16ms/step - loss: 0.1326 - accuracy: 0.9275 - val_loss: 0.1745 - val_accuracy: 0.9348\n",
      "Epoch 19/20\n",
      "160/160 [==============================] - 3s 16ms/step - loss: 0.1349 - accuracy: 0.9252 - val_loss: 0.2145 - val_accuracy: 0.9352\n",
      "Epoch 20/20\n",
      "160/160 [==============================] - 2s 15ms/step - loss: 0.1303 - accuracy: 0.9251 - val_loss: 0.2954 - val_accuracy: 0.9352\n",
      "100/100 [==============================] - 1s 5ms/step\n",
      "Accuracy   :  93.81281407035176\n",
      "Precision  :  89.0084985835694\n",
      "Recall     :  99.80940279542567\n",
      "F1 Score   :  94.10002994908656\n"
     ]
    }
   ],
   "source": [
    "# Reshape the data for 1D CNN input (samples, time steps, features)\n",
    "cnn_x_train = x_train.reshape(x_train.shape[0], x_train.shape[1], 1)\n",
    "cnn_x_test = x_test.reshape(x_test.shape[0], x_test.shape[1], 1)\n",
    "\n",
    "# Build the 1D CNN model\n",
    "cnn_model = Sequential()\n",
    "cnn_model.add(Conv1D(64, kernel_size=3, activation='relu', input_shape=(cnn_x_train.shape[1], 1)))\n",
    "cnn_model.add(MaxPooling1D(pool_size=2))\n",
    "cnn_model.add(Flatten())\n",
    "cnn_model.add(Dense(128, activation='relu'))\n",
    "cnn_model.add(BatchNormalization())\n",
    "cnn_model.add(Dropout(0.5))\n",
    "cnn_model.add(Dense(1, activation='sigmoid'))\n",
    "\n",
    "# Compile the model\n",
    "optimizer = Adam(learning_rate=0.001)  # Adjust learning rate as needed\n",
    "cnn_model.compile(optimizer=optimizer, loss='binary_crossentropy', metrics=['accuracy'])\n",
    "\n",
    "# Train the model\n",
    "cnn_model.fit(cnn_x_train, y_train, epochs=20, batch_size=64, validation_split=0.2)\n",
    "\n",
    "# Evaluate the model\n",
    "cnn_preds = (cnn_model.predict(cnn_x_test) > 0.5).astype(\"int32\")\n",
    "\n",
    "\n",
    "cnn_accuracy = accuracy_score(y_test, cnn_preds)*100\n",
    "cnn_precision = precision_score(y_test,cnn_preds)*100;\n",
    "cnn_recall = recall_score(y_test,cnn_preds)*100;\n",
    "cnn_f1_score = f1_score(y_test,cnn_preds)*100;\n",
    "\n",
    "\n",
    "print(\"Accuracy   : \",cnn_accuracy)\n",
    "print(\"Precision  : \",cnn_precision)\n",
    "print(\"Recall     : \",cnn_recall)\n",
    "print(\"F1 Score   : \",cnn_f1_score)"
   ]
  },
  {
   "cell_type": "markdown",
   "metadata": {
    "id": "VuyZDlTTbQgE"
   },
   "source": [
    "#Quadratic Discriminant Analysis"
   ]
  },
  {
   "cell_type": "code",
   "execution_count": 54,
   "metadata": {
    "id": "Zk-HOl2jcSjV"
   },
   "outputs": [
    {
     "name": "stdout",
     "output_type": "stream",
     "text": [
      "Accuracy   :  73.83793969849246\n",
      "Precision  :  97.43918053777209\n",
      "Recall     :  48.34815756035578\n",
      "F1 Score   :  64.6284501061571\n"
     ]
    },
    {
     "name": "stderr",
     "output_type": "stream",
     "text": [
      "C:\\Users\\Pratham\\anaconda3\\lib\\site-packages\\sklearn\\discriminant_analysis.py:878: UserWarning: Variables are collinear\n",
      "  warnings.warn(\"Variables are collinear\")\n"
     ]
    }
   ],
   "source": [
    "# Build the QDA model\n",
    "qda = QuadraticDiscriminantAnalysis()\n",
    "\n",
    "# Fit the model to the training data\n",
    "qda.fit(x_train, y_train)\n",
    "\n",
    "# Make predictions on the test data\n",
    "qda_preds = (qda.predict(x_test) > 0.5).astype(\"int32\")\n",
    "\n",
    "\n",
    "qda_accuracy = accuracy_score(y_test, qda_preds)*100\n",
    "qda_precision = precision_score(y_test,qda_preds)*100;\n",
    "qda_recall = recall_score(y_test,qda_preds)*100;\n",
    "qda_f1_score = f1_score(y_test,qda_preds)*100;\n",
    "\n",
    "\n",
    "print(\"Accuracy   : \",qda_accuracy)\n",
    "print(\"Precision  : \",qda_precision)\n",
    "print(\"Recall     : \",qda_recall)\n",
    "print(\"F1 Score   : \",qda_f1_score)"
   ]
  },
  {
   "cell_type": "markdown",
   "metadata": {
    "id": "dmNq6zJ5ciIt"
   },
   "source": [
    "# ***#PRATHAM Implemented Models***"
   ]
  },
  {
   "cell_type": "markdown",
   "metadata": {
    "id": "_rCO2HsFcpXi"
   },
   "source": [
    "#Logistic Regression"
   ]
  },
  {
   "cell_type": "code",
   "execution_count": 55,
   "metadata": {
    "id": "VidT35Dkc11J"
   },
   "outputs": [
    {
     "name": "stdout",
     "output_type": "stream",
     "text": [
      "Accuracy   :  83.00879396984925\n",
      "Precision  :  84.87508440243079\n",
      "Recall     :  79.86022871664548\n",
      "F1 Score   :  82.29132569558101\n"
     ]
    }
   ],
   "source": [
    "lg_model = LogisticRegression(max_iter=1000)\n",
    "lg_model.fit(x_train, y_train)\n",
    "\n",
    "lg_preds = lg_model.predict(x_test)\n",
    "\n",
    "lg_accuracy = accuracy_score(y_test, lg_preds)*100\n",
    "lg_precision = precision_score(y_test,lg_preds)*100;\n",
    "lg_recall = recall_score(y_test,lg_preds)*100;\n",
    "lg_f1_score = f1_score(y_test,lg_preds)*100;\n",
    "\n",
    "print(\"Accuracy   : \",lg_accuracy)\n",
    "print(\"Precision  : \",lg_precision)\n",
    "print(\"Recall     : \",lg_recall)\n",
    "print(\"F1 Score   : \",lg_f1_score)"
   ]
  },
  {
   "cell_type": "markdown",
   "metadata": {
    "id": "wMVRYFcKctJt"
   },
   "source": [
    "#KNN"
   ]
  },
  {
   "cell_type": "code",
   "execution_count": 56,
   "metadata": {
    "colab": {
     "background_save": true
    },
    "id": "-KpK_uMwc8ct"
   },
   "outputs": [
    {
     "name": "stdout",
     "output_type": "stream",
     "text": [
      "Accuracy   :  94.03266331658291\n",
      "Precision  :  92.55842558425584\n",
      "Recall     :  95.61626429479034\n",
      "F1 Score   :  94.0625\n"
     ]
    }
   ],
   "source": [
    "# Calculate error rate for different values of n_neighbors\n",
    "error_rate = []\n",
    "for i in range(1, 40):\n",
    "    knn = KNeighborsClassifier(n_neighbors=i)\n",
    "    knn.fit(x_train, y_train)\n",
    "    pred_i = knn.predict(x_test)\n",
    "    error_rate.append(np.mean(pred_i != y_test))\n",
    "req_k_value = error_rate.index(min(error_rate)) + 1\n",
    "\n",
    "knn_classifier = KNeighborsClassifier(n_neighbors=req_k_value)\n",
    "knn_classifier.fit(x_train, y_train)\n",
    "\n",
    "knn_classifier_preds = knn_classifier.predict(x_test)\n",
    "\n",
    "\n",
    "knn_accuracy = accuracy_score(y_test, knn_classifier_preds)*100\n",
    "knn_precision = precision_score(y_test,knn_classifier_preds)*100;\n",
    "knn_recall = recall_score(y_test,knn_classifier_preds)*100;\n",
    "knn_f1_score = f1_score(y_test,knn_classifier_preds)*100;\n",
    "\n",
    "print(\"Accuracy   : \",knn_accuracy)\n",
    "print(\"Precision  : \",knn_precision)\n",
    "print(\"Recall     : \",knn_recall)\n",
    "print(\"F1 Score   : \",knn_f1_score)"
   ]
  },
  {
   "cell_type": "markdown",
   "metadata": {
    "id": "BSzq0AyvcvB6"
   },
   "source": [
    "#DFNN"
   ]
  },
  {
   "cell_type": "code",
   "execution_count": 57,
   "metadata": {
    "id": "686yVFDndDRM"
   },
   "outputs": [
    {
     "name": "stdout",
     "output_type": "stream",
     "text": [
      "Epoch 1/10\n",
      "319/319 [==============================] - 4s 6ms/step - loss: 0.3740 - accuracy: 0.8494 - val_loss: 0.2492 - val_accuracy: 0.9148\n",
      "Epoch 2/10\n",
      "319/319 [==============================] - 2s 5ms/step - loss: 0.1995 - accuracy: 0.9184 - val_loss: 0.1804 - val_accuracy: 0.9344\n",
      "Epoch 3/10\n",
      "319/319 [==============================] - 2s 5ms/step - loss: 0.1609 - accuracy: 0.9287 - val_loss: 0.1505 - val_accuracy: 0.9380\n",
      "Epoch 4/10\n",
      "319/319 [==============================] - 2s 5ms/step - loss: 0.1450 - accuracy: 0.9299 - val_loss: 0.1425 - val_accuracy: 0.9364\n",
      "Epoch 5/10\n",
      "319/319 [==============================] - 2s 5ms/step - loss: 0.1373 - accuracy: 0.9280 - val_loss: 0.1461 - val_accuracy: 0.9372\n",
      "Epoch 6/10\n",
      "319/319 [==============================] - 2s 5ms/step - loss: 0.1308 - accuracy: 0.9328 - val_loss: 0.1421 - val_accuracy: 0.9399\n",
      "Epoch 7/10\n",
      "319/319 [==============================] - 2s 5ms/step - loss: 0.1281 - accuracy: 0.9324 - val_loss: 0.1286 - val_accuracy: 0.9333\n",
      "Epoch 8/10\n",
      "319/319 [==============================] - 2s 5ms/step - loss: 0.1254 - accuracy: 0.9325 - val_loss: 0.1636 - val_accuracy: 0.9348\n",
      "Epoch 9/10\n",
      "319/319 [==============================] - 1s 5ms/step - loss: 0.1228 - accuracy: 0.9304 - val_loss: 0.1787 - val_accuracy: 0.9391\n",
      "Epoch 10/10\n",
      "319/319 [==============================] - 2s 5ms/step - loss: 0.1227 - accuracy: 0.9313 - val_loss: 0.1645 - val_accuracy: 0.9356\n",
      "100/100 [==============================] - 0s 3ms/step\n",
      "Accuracy   :  93.81281407035176\n",
      "Precision  :  88.96434634974533\n",
      "Recall     :  99.87293519695044\n",
      "F1 Score   :  94.10356180784196\n"
     ]
    }
   ],
   "source": [
    "dfnn_model = keras.Sequential([\n",
    "    layers.Input(shape=(17,)),  # Input layer with 2 features\n",
    "    layers.Dense(64, activation='relu'),  # Hidden layer with 64 neurons and ReLU activation\n",
    "    layers.Dense(32, activation='relu'),  # Hidden layer with 32 neurons and ReLU activation\n",
    "    layers.Dense(1, activation='sigmoid')  # Output layer with 1 neuron and sigmoid activation\n",
    "])\n",
    "\n",
    "dfnn_model.compile(optimizer='adam', loss='binary_crossentropy', metrics=['accuracy'])\n",
    "\n",
    "# Train the model\n",
    "dfnn_model.fit(x_train, y_train, epochs=10, batch_size=32, validation_split=0.2)\n",
    "\n",
    "dfnn_preds = dfnn_model.predict(x_test)\n",
    "dfnn_preds = np.round(dfnn_preds).flatten()\n",
    "\n",
    "\n",
    "dfnn_accuracy = accuracy_score(y_test, dfnn_preds)*100\n",
    "dfnn_precision = precision_score(y_test,dfnn_preds)*100;\n",
    "dfnn_recall = recall_score(y_test,dfnn_preds)*100;\n",
    "dfnn_f1_score = f1_score(y_test,dfnn_preds)*100;\n",
    "\n",
    "print(\"Accuracy   : \",dfnn_accuracy)\n",
    "print(\"Precision  : \",dfnn_precision)\n",
    "print(\"Recall     : \",dfnn_recall)\n",
    "print(\"F1 Score   : \",dfnn_f1_score)"
   ]
  },
  {
   "cell_type": "markdown",
   "metadata": {
    "id": "qErH9UsddFat"
   },
   "source": [
    "#LDA"
   ]
  },
  {
   "cell_type": "code",
   "execution_count": 58,
   "metadata": {
    "id": "uvjDjUwecoYU"
   },
   "outputs": [
    {
     "name": "stdout",
     "output_type": "stream",
     "text": [
      "Accuracy   :  84.70477386934674\n",
      "Precision  :  85.96955658504302\n",
      "Recall     :  82.52858958068614\n",
      "F1 Score   :  84.21393841166936\n"
     ]
    }
   ],
   "source": [
    "lda = LinearDiscriminantAnalysis()\n",
    "lda.fit(x_train, y_train)\n",
    "\n",
    "lda_preds = lda.predict(x_test)\n",
    "lda_accuracy = accuracy_score(y_test,lda_preds)*100;\n",
    "\n",
    "lda_accuracy = accuracy_score(y_test, lda_preds)*100\n",
    "lda_precision = precision_score(y_test,lda_preds)*100;\n",
    "lda_recall = recall_score(y_test,lda_preds)*100;\n",
    "lda_f1_score = f1_score(y_test,lda_preds)*100;\n",
    "\n",
    "print(\"Accuracy   : \",lda_accuracy)\n",
    "print(\"Precision  : \",lda_precision)\n",
    "print(\"Recall     : \",lda_recall)\n",
    "print(\"F1 Score   : \",lda_f1_score)"
   ]
  },
  {
   "cell_type": "markdown",
   "metadata": {
    "id": "sHGvyD25danH"
   },
   "source": [
    "# ***#MANAS Implemented Models***"
   ]
  },
  {
   "cell_type": "markdown",
   "metadata": {
    "id": "Z7LmkNr9dlh8"
   },
   "source": [
    "#SGD Classifier"
   ]
  },
  {
   "cell_type": "code",
   "execution_count": 59,
   "metadata": {
    "id": "hv71SsW7d4g_"
   },
   "outputs": [
    {
     "name": "stdout",
     "output_type": "stream",
     "text": [
      "Accuracy   :  82.4748743718593\n",
      "Precision  :  85.37604456824512\n",
      "Recall     :  77.89072426937739\n",
      "F1 Score   :  81.46179401993356\n"
     ]
    }
   ],
   "source": [
    "from sklearn.linear_model import SGDClassifier\n",
    "\n",
    "sgd_class=SGDClassifier(loss='log',penalty='l1',max_iter=500,shuffle=False)\n",
    "sgd_class.fit(x_train,y_train)\n",
    "sgd_class_preds=sgd_class.predict(x_test)\n",
    "\n",
    "\n",
    "\n",
    "acc_score_sgd = accuracy_score(y_test, sgd_class_preds)*100\n",
    "precision_sgd = precision_score(y_test,sgd_class_preds)*100;\n",
    "recall_sgd = recall_score(y_test,sgd_class_preds)*100;\n",
    "f1_score_sgd = f1_score(y_test,sgd_class_preds)*100;\n",
    "\n",
    "\n",
    "print(\"Accuracy   : \",acc_score_sgd)\n",
    "print(\"Precision  : \",precision_sgd)\n",
    "print(\"Recall     : \",recall_sgd)\n",
    "print(\"F1 Score   : \",f1_score_sgd)"
   ]
  },
  {
   "cell_type": "markdown",
   "metadata": {
    "id": "ly0mYSIudpt2"
   },
   "source": [
    "#Ridge classifier"
   ]
  },
  {
   "cell_type": "code",
   "execution_count": 60,
   "metadata": {
    "colab": {
     "background_save": true
    },
    "id": "IMqXqn0kd5Gw"
   },
   "outputs": [
    {
     "name": "stdout",
     "output_type": "stream",
     "text": [
      "Accuracy   :  84.61055276381909\n",
      "Precision  :  85.94164456233422\n",
      "Recall     :  82.33799237611181\n",
      "F1 Score   :  84.10123296560674\n"
     ]
    }
   ],
   "source": [
    "from sklearn.linear_model import RidgeClassifier\n",
    "ridge_classifier=RidgeClassifier(alpha=0.01,fit_intercept=True,solver='lsqr') #fit intercept when data already centred\n",
    "ridge_classifier.fit(x_train,y_train)\n",
    "ridge_classifier_preds=ridge_classifier.predict(x_test)\n",
    "\n",
    "\n",
    "acc_score_ridge = accuracy_score(y_test, ridge_classifier_preds)*100\n",
    "precision_ridge = precision_score(y_test,ridge_classifier_preds)*100;\n",
    "recall_ridge = recall_score(y_test,ridge_classifier_preds)*100;\n",
    "f1_score_ridge = f1_score(y_test,ridge_classifier_preds)*100;\n",
    "\n",
    "\n",
    "print(\"Accuracy   : \",acc_score_ridge)\n",
    "print(\"Precision  : \",precision_ridge)\n",
    "print(\"Recall     : \",recall_ridge)\n",
    "print(\"F1 Score   : \",f1_score_ridge)\n"
   ]
  },
  {
   "cell_type": "markdown",
   "metadata": {
    "id": "a7LMRxmddu3r"
   },
   "source": [
    "# Deep belief network"
   ]
  },
  {
   "cell_type": "code",
   "execution_count": 61,
   "metadata": {
    "id": "-JEzg8A7d6N-"
   },
   "outputs": [
    {
     "name": "stdout",
     "output_type": "stream",
     "text": [
      "Model: \"sequential_18\"\n",
      "_________________________________________________________________\n",
      " Layer (type)                Output Shape              Param #   \n",
      "=================================================================\n",
      " dense_38 (Dense)            (None, 128)               2304      \n",
      "                                                                 \n",
      " dense_39 (Dense)            (None, 32)                4128      \n",
      "                                                                 \n",
      " dense_40 (Dense)            (None, 32)                1056      \n",
      "                                                                 \n",
      " dense_41 (Dense)            (None, 32)                1056      \n",
      "                                                                 \n",
      " dense_42 (Dense)            (None, 32)                1056      \n",
      "                                                                 \n",
      " dense_43 (Dense)            (None, 32)                1056      \n",
      "                                                                 \n",
      " dense_44 (Dense)            (None, 32)                1056      \n",
      "                                                                 \n",
      " dense_45 (Dense)            (None, 32)                1056      \n",
      "                                                                 \n",
      " dense_46 (Dense)            (None, 32)                1056      \n",
      "                                                                 \n",
      " dense_47 (Dense)            (None, 32)                1056      \n",
      "                                                                 \n",
      " dense_48 (Dense)            (None, 32)                1056      \n",
      "                                                                 \n",
      " dense_49 (Dense)            (None, 1)                 33        \n",
      "                                                                 \n",
      "=================================================================\n",
      "Total params: 15,969\n",
      "Trainable params: 15,969\n",
      "Non-trainable params: 0\n",
      "_________________________________________________________________\n",
      "Epoch 1/50\n",
      "50/50 [==============================] - 9s 24ms/step - loss: 0.6939 - accuracy: 0.5019 - val_loss: 0.6930 - val_accuracy: 0.5057\n",
      "Epoch 2/50\n",
      "50/50 [==============================] - 1s 11ms/step - loss: 0.6802 - accuracy: 0.5968 - val_loss: 0.6009 - val_accuracy: 0.8624\n",
      "Epoch 3/50\n",
      "50/50 [==============================] - 1s 11ms/step - loss: 0.4187 - accuracy: 0.8747 - val_loss: 0.3722 - val_accuracy: 0.8734\n",
      "Epoch 4/50\n",
      "50/50 [==============================] - 1s 11ms/step - loss: 0.3640 - accuracy: 0.8772 - val_loss: 0.3690 - val_accuracy: 0.8744\n",
      "Epoch 5/50\n",
      "50/50 [==============================] - 1s 11ms/step - loss: 0.3589 - accuracy: 0.8789 - val_loss: 0.3619 - val_accuracy: 0.8700\n",
      "Epoch 6/50\n",
      "50/50 [==============================] - 1s 12ms/step - loss: 0.3578 - accuracy: 0.8783 - val_loss: 0.3654 - val_accuracy: 0.8778\n",
      "Epoch 7/50\n",
      "50/50 [==============================] - 1s 13ms/step - loss: 0.3565 - accuracy: 0.8792 - val_loss: 0.3554 - val_accuracy: 0.8778\n",
      "Epoch 8/50\n",
      "50/50 [==============================] - 1s 13ms/step - loss: 0.3533 - accuracy: 0.8778 - val_loss: 0.3589 - val_accuracy: 0.8759\n",
      "Epoch 9/50\n",
      "50/50 [==============================] - 1s 13ms/step - loss: 0.3539 - accuracy: 0.8772 - val_loss: 0.3578 - val_accuracy: 0.8778\n",
      "Epoch 10/50\n",
      "50/50 [==============================] - 1s 13ms/step - loss: 0.3516 - accuracy: 0.8790 - val_loss: 0.3574 - val_accuracy: 0.8778\n",
      "Epoch 11/50\n",
      "50/50 [==============================] - 1s 12ms/step - loss: 0.3515 - accuracy: 0.8798 - val_loss: 0.3545 - val_accuracy: 0.8766\n",
      "Epoch 12/50\n",
      "50/50 [==============================] - 1s 13ms/step - loss: 0.3510 - accuracy: 0.8790 - val_loss: 0.3530 - val_accuracy: 0.8781\n",
      "Epoch 13/50\n",
      "50/50 [==============================] - 1s 12ms/step - loss: 0.3478 - accuracy: 0.8783 - val_loss: 0.3352 - val_accuracy: 0.8781\n",
      "Epoch 14/50\n",
      "50/50 [==============================] - 1s 12ms/step - loss: 0.3016 - accuracy: 0.8867 - val_loss: 0.2743 - val_accuracy: 0.8992\n",
      "Epoch 15/50\n",
      "50/50 [==============================] - 1s 12ms/step - loss: 0.2762 - accuracy: 0.8972 - val_loss: 0.2668 - val_accuracy: 0.9004\n",
      "Epoch 16/50\n",
      "50/50 [==============================] - 1s 12ms/step - loss: 0.2513 - accuracy: 0.9052 - val_loss: 0.2012 - val_accuracy: 0.9328\n",
      "Epoch 17/50\n",
      "50/50 [==============================] - 1s 12ms/step - loss: 0.1844 - accuracy: 0.9285 - val_loss: 0.1428 - val_accuracy: 0.9193\n",
      "Epoch 18/50\n",
      "50/50 [==============================] - 1s 12ms/step - loss: 0.1426 - accuracy: 0.9273 - val_loss: 0.1263 - val_accuracy: 0.9359\n",
      "Epoch 19/50\n",
      "50/50 [==============================] - 1s 13ms/step - loss: 0.1324 - accuracy: 0.9299 - val_loss: 0.1325 - val_accuracy: 0.9366\n",
      "Epoch 20/50\n",
      "50/50 [==============================] - 1s 13ms/step - loss: 0.1326 - accuracy: 0.9287 - val_loss: 0.1259 - val_accuracy: 0.9253\n",
      "Epoch 21/50\n",
      "50/50 [==============================] - 1s 12ms/step - loss: 0.1328 - accuracy: 0.9262 - val_loss: 0.1207 - val_accuracy: 0.9328\n",
      "Epoch 22/50\n",
      "50/50 [==============================] - 1s 13ms/step - loss: 0.1260 - accuracy: 0.9319 - val_loss: 0.1173 - val_accuracy: 0.9290\n",
      "Epoch 23/50\n",
      "50/50 [==============================] - 1s 13ms/step - loss: 0.1229 - accuracy: 0.9316 - val_loss: 0.1141 - val_accuracy: 0.9353\n",
      "Epoch 24/50\n",
      "50/50 [==============================] - 1s 13ms/step - loss: 0.1199 - accuracy: 0.9317 - val_loss: 0.1202 - val_accuracy: 0.9218\n",
      "Epoch 25/50\n",
      "50/50 [==============================] - 1s 12ms/step - loss: 0.1191 - accuracy: 0.9314 - val_loss: 0.1127 - val_accuracy: 0.9325\n",
      "Epoch 26/50\n",
      "50/50 [==============================] - 1s 12ms/step - loss: 0.1176 - accuracy: 0.9327 - val_loss: 0.1213 - val_accuracy: 0.9331\n",
      "Epoch 27/50\n",
      "50/50 [==============================] - 1s 11ms/step - loss: 0.1187 - accuracy: 0.9310 - val_loss: 0.1118 - val_accuracy: 0.9353\n",
      "Epoch 28/50\n",
      "50/50 [==============================] - 1s 11ms/step - loss: 0.1156 - accuracy: 0.9360 - val_loss: 0.1122 - val_accuracy: 0.9350\n",
      "Epoch 29/50\n",
      "50/50 [==============================] - 1s 11ms/step - loss: 0.1160 - accuracy: 0.9328 - val_loss: 0.1128 - val_accuracy: 0.9369\n",
      "Epoch 30/50\n",
      "50/50 [==============================] - 1s 11ms/step - loss: 0.1150 - accuracy: 0.9324 - val_loss: 0.1119 - val_accuracy: 0.9381\n",
      "Epoch 31/50\n",
      "50/50 [==============================] - 1s 12ms/step - loss: 0.1149 - accuracy: 0.9324 - val_loss: 0.1104 - val_accuracy: 0.9366\n",
      "Epoch 32/50\n",
      "50/50 [==============================] - 1s 11ms/step - loss: 0.1133 - accuracy: 0.9338 - val_loss: 0.1085 - val_accuracy: 0.9325\n",
      "Epoch 33/50\n",
      "50/50 [==============================] - 1s 12ms/step - loss: 0.1139 - accuracy: 0.9299 - val_loss: 0.1119 - val_accuracy: 0.9375\n",
      "Epoch 34/50\n",
      "50/50 [==============================] - 1s 13ms/step - loss: 0.1118 - accuracy: 0.9319 - val_loss: 0.1091 - val_accuracy: 0.9318\n",
      "Epoch 35/50\n",
      "50/50 [==============================] - 1s 13ms/step - loss: 0.1097 - accuracy: 0.9328 - val_loss: 0.1076 - val_accuracy: 0.9337\n",
      "Epoch 36/50\n",
      "50/50 [==============================] - 1s 12ms/step - loss: 0.1096 - accuracy: 0.9354 - val_loss: 0.1080 - val_accuracy: 0.9296\n",
      "Epoch 37/50\n",
      "50/50 [==============================] - 1s 13ms/step - loss: 0.1089 - accuracy: 0.9333 - val_loss: 0.1072 - val_accuracy: 0.9369\n",
      "Epoch 38/50\n",
      "50/50 [==============================] - 1s 12ms/step - loss: 0.1096 - accuracy: 0.9340 - val_loss: 0.1066 - val_accuracy: 0.9359\n",
      "Epoch 39/50\n",
      "50/50 [==============================] - 1s 13ms/step - loss: 0.1080 - accuracy: 0.9328 - val_loss: 0.1065 - val_accuracy: 0.9347\n",
      "Epoch 40/50\n",
      "50/50 [==============================] - 1s 13ms/step - loss: 0.1079 - accuracy: 0.9343 - val_loss: 0.1067 - val_accuracy: 0.9362\n",
      "Epoch 41/50\n",
      "50/50 [==============================] - 1s 12ms/step - loss: 0.1073 - accuracy: 0.9339 - val_loss: 0.1063 - val_accuracy: 0.9347\n",
      "Epoch 42/50\n",
      "50/50 [==============================] - 1s 12ms/step - loss: 0.1072 - accuracy: 0.9345 - val_loss: 0.1074 - val_accuracy: 0.9325\n",
      "Epoch 43/50\n",
      "50/50 [==============================] - 1s 12ms/step - loss: 0.1065 - accuracy: 0.9361 - val_loss: 0.1064 - val_accuracy: 0.9331\n",
      "Epoch 44/50\n",
      "50/50 [==============================] - 1s 12ms/step - loss: 0.1063 - accuracy: 0.9345 - val_loss: 0.1055 - val_accuracy: 0.9375\n",
      "Epoch 45/50\n",
      "50/50 [==============================] - 1s 12ms/step - loss: 0.1062 - accuracy: 0.9354 - val_loss: 0.1065 - val_accuracy: 0.9347\n",
      "Epoch 46/50\n",
      "50/50 [==============================] - 1s 12ms/step - loss: 0.1062 - accuracy: 0.9359 - val_loss: 0.1075 - val_accuracy: 0.9322\n",
      "Epoch 47/50\n",
      "50/50 [==============================] - 1s 12ms/step - loss: 0.1060 - accuracy: 0.9354 - val_loss: 0.1066 - val_accuracy: 0.9331\n",
      "Epoch 48/50\n",
      "50/50 [==============================] - 1s 13ms/step - loss: 0.1055 - accuracy: 0.9361 - val_loss: 0.1066 - val_accuracy: 0.9372\n",
      "Epoch 49/50\n",
      "50/50 [==============================] - 1s 12ms/step - loss: 0.1068 - accuracy: 0.9328 - val_loss: 0.1069 - val_accuracy: 0.9372\n",
      "Epoch 50/50\n",
      "50/50 [==============================] - 1s 12ms/step - loss: 0.1053 - accuracy: 0.9334 - val_loss: 0.1060 - val_accuracy: 0.9366\n",
      "100/100 [==============================] - 1s 4ms/step\n",
      "Accuracy   :  93.65577889447236\n",
      "Precision  :  88.88888888888889\n",
      "Recall     :  99.61880559085134\n",
      "F1 Score   :  93.94847213900539\n"
     ]
    }
   ],
   "source": [
    "dbn_model = Sequential()\n",
    "dbn_model.add(Dense(128, activation='relu', input_shape=(17,)))\n",
    "dbn_model.add(Dense(32, activation='sigmoid'))\n",
    "dbn_model.add(Dense(32, activation='relu'))\n",
    "dbn_model.add(Dense(32, activation='sigmoid'))\n",
    "dbn_model.add(Dense(32, activation='relu'))\n",
    "dbn_model.add(Dense(32, activation='sigmoid'))\n",
    "dbn_model.add(Dense(32, activation='relu'))\n",
    "dbn_model.add(Dense(32, activation='sigmoid'))\n",
    "dbn_model.add(Dense(32, activation='relu'))\n",
    "dbn_model.add(Dense(32, activation='sigmoid'))\n",
    "dbn_model.add(Dense(32, activation='relu'))\n",
    "# dbn_model.add(Dense(32, activation='sigmoid'))\n",
    "dbn_model.add(Dense(1, activation='sigmoid'))\n",
    "dbn_model.compile(optimizer='adam', loss='binary_crossentropy', metrics=['accuracy'])\n",
    "dbn_model.summary()\n",
    "\n",
    "dbn_model.fit(x_train, y_train, epochs=50, batch_size=256, validation_data=(x_test, y_test))\n",
    "\n",
    "dbn_model_preds = (dbn_model.predict(x_test) > 0.5).astype(\"int32\")\n",
    "\n",
    "\n",
    "dbn_accuracy = accuracy_score(y_test, dbn_model_preds)*100\n",
    "dbn_precision = precision_score(y_test,dbn_model_preds)*100;\n",
    "dbn_recall = recall_score(y_test,dbn_model_preds)*100;\n",
    "dbn_f1_score = f1_score(y_test,dbn_model_preds)*100;\n",
    "\n",
    "\n",
    "print(\"Accuracy   : \",dbn_accuracy)\n",
    "print(\"Precision  : \",dbn_precision)\n",
    "print(\"Recall     : \",dbn_recall)\n",
    "print(\"F1 Score   : \",dbn_f1_score)"
   ]
  },
  {
   "cell_type": "markdown",
   "metadata": {
    "id": "KrkdlGFtd0Z3"
   },
   "source": [
    "# auto encoders"
   ]
  },
  {
   "cell_type": "code",
   "execution_count": 62,
   "metadata": {
    "id": "tzZJ36qyd7dX"
   },
   "outputs": [
    {
     "name": "stdout",
     "output_type": "stream",
     "text": [
      "Epoch 1/5\n",
      "398/398 [==============================] - 5s 5ms/step - loss: -2465620.7500\n",
      "Epoch 2/5\n",
      "398/398 [==============================] - 2s 6ms/step - loss: -687949696.0000\n",
      "Epoch 3/5\n",
      "398/398 [==============================] - 2s 5ms/step - loss: -13254230016.0000\n",
      "Epoch 4/5\n",
      "398/398 [==============================] - 2s 6ms/step - loss: -87141154816.0000\n",
      "Epoch 5/5\n",
      "398/398 [==============================] - 2s 6ms/step - loss: -339506200576.0000\n",
      "398/398 [==============================] - 1s 3ms/step\n",
      "100/100 [==============================] - 0s 3ms/step\n",
      "Epoch 1/25\n",
      "398/398 [==============================] - 4s 6ms/step - loss: 2480.3994 - accuracy: 0.7270 - val_loss: 1354.3315 - val_accuracy: 0.4231\n",
      "Epoch 2/25\n",
      "398/398 [==============================] - 2s 5ms/step - loss: 1311.2937 - accuracy: 0.7326 - val_loss: 1280.7850 - val_accuracy: 0.6762\n",
      "Epoch 3/25\n",
      "398/398 [==============================] - 2s 5ms/step - loss: 1024.7704 - accuracy: 0.7316 - val_loss: 727.6375 - val_accuracy: 0.8530\n",
      "Epoch 4/25\n",
      "398/398 [==============================] - 2s 5ms/step - loss: 916.2974 - accuracy: 0.7469 - val_loss: 2830.8079 - val_accuracy: 0.8169\n",
      "Epoch 5/25\n",
      "398/398 [==============================] - 2s 5ms/step - loss: 1196.0620 - accuracy: 0.7392 - val_loss: 727.1508 - val_accuracy: 0.8043\n",
      "Epoch 6/25\n",
      "398/398 [==============================] - 2s 5ms/step - loss: 1227.2227 - accuracy: 0.7479 - val_loss: 1013.0132 - val_accuracy: 0.8178\n",
      "Epoch 7/25\n",
      "398/398 [==============================] - 2s 5ms/step - loss: 793.3398 - accuracy: 0.7568 - val_loss: 731.0695 - val_accuracy: 0.7918\n",
      "Epoch 8/25\n",
      "398/398 [==============================] - 2s 5ms/step - loss: 881.4543 - accuracy: 0.7456 - val_loss: 513.4859 - val_accuracy: 0.8006\n",
      "Epoch 9/25\n",
      "398/398 [==============================] - 2s 4ms/step - loss: 779.4758 - accuracy: 0.7456 - val_loss: 1458.3417 - val_accuracy: 0.8235\n",
      "Epoch 10/25\n",
      "398/398 [==============================] - 2s 5ms/step - loss: 893.0806 - accuracy: 0.7511 - val_loss: 548.3214 - val_accuracy: 0.8587\n",
      "Epoch 11/25\n",
      "398/398 [==============================] - 2s 5ms/step - loss: 685.8037 - accuracy: 0.7487 - val_loss: 1044.9468 - val_accuracy: 0.8219\n",
      "Epoch 12/25\n",
      "398/398 [==============================] - 2s 5ms/step - loss: 872.4902 - accuracy: 0.7454 - val_loss: 300.9764 - val_accuracy: 0.8144\n",
      "Epoch 13/25\n",
      "398/398 [==============================] - 2s 5ms/step - loss: 722.3215 - accuracy: 0.7546 - val_loss: 283.3478 - val_accuracy: 0.7902\n",
      "Epoch 14/25\n",
      "398/398 [==============================] - 2s 5ms/step - loss: 945.2205 - accuracy: 0.7536 - val_loss: 1220.4159 - val_accuracy: 0.8213\n",
      "Epoch 15/25\n",
      "398/398 [==============================] - 2s 5ms/step - loss: 952.7693 - accuracy: 0.7538 - val_loss: 478.9578 - val_accuracy: 0.7133\n",
      "Epoch 16/25\n",
      "398/398 [==============================] - 2s 5ms/step - loss: 914.3798 - accuracy: 0.7540 - val_loss: 343.9612 - val_accuracy: 0.7095\n",
      "Epoch 17/25\n",
      "398/398 [==============================] - 2s 5ms/step - loss: 556.5967 - accuracy: 0.7449 - val_loss: 1382.6074 - val_accuracy: 0.8219\n",
      "Epoch 18/25\n",
      "398/398 [==============================] - 2s 5ms/step - loss: 1035.7815 - accuracy: 0.7493 - val_loss: 2808.7632 - val_accuracy: 0.5157\n",
      "Epoch 19/25\n",
      "398/398 [==============================] - 2s 5ms/step - loss: 589.9286 - accuracy: 0.7480 - val_loss: 1221.2792 - val_accuracy: 0.5468\n",
      "Epoch 20/25\n",
      "398/398 [==============================] - 2s 5ms/step - loss: 721.0966 - accuracy: 0.7609 - val_loss: 423.1677 - val_accuracy: 0.7915\n",
      "Epoch 21/25\n",
      "398/398 [==============================] - 2s 5ms/step - loss: 796.1259 - accuracy: 0.7601 - val_loss: 755.7548 - val_accuracy: 0.8219\n",
      "Epoch 22/25\n",
      "398/398 [==============================] - 2s 5ms/step - loss: 667.0742 - accuracy: 0.7491 - val_loss: 666.0216 - val_accuracy: 0.7180\n",
      "Epoch 23/25\n",
      "398/398 [==============================] - 2s 5ms/step - loss: 983.9857 - accuracy: 0.7473 - val_loss: 256.7241 - val_accuracy: 0.7111\n",
      "Epoch 24/25\n",
      "398/398 [==============================] - 2s 5ms/step - loss: 694.4759 - accuracy: 0.7544 - val_loss: 473.8024 - val_accuracy: 0.8552\n",
      "Epoch 25/25\n",
      "398/398 [==============================] - 2s 5ms/step - loss: 742.3085 - accuracy: 0.7524 - val_loss: 288.4190 - val_accuracy: 0.7107\n",
      "100/100 [==============================] - 0s 3ms/step\n",
      "Accuracy   :  71.07412060301507\n",
      "Precision  :  67.01406982803545\n",
      "Recall     :  81.70266836086404\n",
      "F1 Score   :  73.6329802462067\n"
     ]
    }
   ],
   "source": [
    "encoder = Sequential([\n",
    "  Dense(128, activation=\"relu\", input_shape=(17,)),\n",
    "  Dense(64, activation=\"relu\"),\n",
    "  Dense(32, activation=\"relu\")\n",
    "])\n",
    "decoder =Sequential([\n",
    "  Dense(64, activation=\"relu\", input_shape=(32,)),\n",
    "  Dense(128, activation=\"relu\"),\n",
    "  Dense(17, activation=\"sigmoid\")\n",
    "])\n",
    "autoencoder = Sequential([encoder, decoder])\n",
    "autoencoder.compile(optimizer=\"adam\", loss=\"binary_crossentropy\")\n",
    "\n",
    "\n",
    "autoencoder.fit(x_train, x_train, epochs=5, batch_size=32)\n",
    "x_train_encoded = encoder.predict(x_train)\n",
    "x_test_encoded = encoder.predict(x_test)\n",
    "\n",
    "classifier = Sequential([\n",
    "  Dense(16, activation=\"relu\", input_shape=(32,)),\n",
    "  Dense(1, activation=\"sigmoid\")\n",
    "])\n",
    "classifier.compile(optimizer=\"adam\", loss=\"binary_crossentropy\", metrics=[\"accuracy\"])\n",
    "\n",
    "classifier.fit(x_train_encoded, y_train, epochs=25, batch_size=32,validation_data=(x_test_encoded, y_test))\n",
    "\n",
    "classifier_preds = (classifier.predict(x_test_encoded) > 0.5).astype(\"int32\")\n",
    "\n",
    "\n",
    "classifier_accuracy = accuracy_score(y_test, classifier_preds)*100\n",
    "classifier_precision = precision_score(y_test,classifier_preds)*100;\n",
    "classifier_recall = recall_score(y_test,classifier_preds)*100;\n",
    "classifier_f1_score = f1_score(y_test,classifier_preds)*100;\n",
    "\n",
    "\n",
    "print(\"Accuracy   : \",classifier_accuracy)\n",
    "print(\"Precision  : \",classifier_precision)\n",
    "print(\"Recall     : \",classifier_recall)\n",
    "print(\"F1 Score   : \",classifier_f1_score)"
   ]
  },
  {
   "cell_type": "markdown",
   "metadata": {
    "id": "9YW65GO0etjy"
   },
   "source": [
    "# ***#NEERAJ Implemented Models***"
   ]
  },
  {
   "cell_type": "markdown",
   "metadata": {
    "id": "Scomv13vexG1"
   },
   "source": [
    "#Naive Bayes"
   ]
  },
  {
   "cell_type": "code",
   "execution_count": 66,
   "metadata": {
    "id": "6X8vpFXKfPzz"
   },
   "outputs": [
    {
     "name": "stdout",
     "output_type": "stream",
     "text": [
      "Accuracy   :  81.50125628140702\n",
      "Precision  :  88.26728826728827\n",
      "Recall     :  72.1728081321474\n",
      "F1 Score   :  79.41279272981474\n"
     ]
    }
   ],
   "source": [
    "# Create a Naive Bayes classifier (Bernoulli Naive Bayes in this case)\n",
    "naive_bayes_classifier = BernoulliNB()  # Use BernoulliNB\n",
    "\n",
    "# Train the model\n",
    "naive_bayes_classifier.fit(x_train, y_train)\n",
    "\n",
    "# Make predictions on the test data\n",
    "naive_bayes_classifier_preds = naive_bayes_classifier.predict(x_test)\n",
    "\n",
    "\n",
    "naive_bayes_classifier_accuracy = accuracy_score(y_test, naive_bayes_classifier_preds)*100\n",
    "naive_bayes_classifier_precision = precision_score(y_test,naive_bayes_classifier_preds)*100;\n",
    "naive_bayes_classifier_recall = recall_score(y_test,naive_bayes_classifier_preds)*100;\n",
    "naive_bayes_classifier_f1_score = f1_score(y_test,naive_bayes_classifier_preds)*100;\n",
    "\n",
    "\n",
    "print(\"Accuracy   : \",naive_bayes_classifier_accuracy)\n",
    "print(\"Precision  : \",naive_bayes_classifier_precision)\n",
    "print(\"Recall     : \",naive_bayes_classifier_recall)\n",
    "print(\"F1 Score   : \",naive_bayes_classifier_f1_score)"
   ]
  },
  {
   "cell_type": "markdown",
   "metadata": {
    "id": "YPXgbFAxfgf2"
   },
   "source": [
    "# Concatenate all model predictions with original features"
   ]
  },
  {
   "cell_type": "code",
   "execution_count": 67,
   "metadata": {
    "id": "vWgwM2uFfmVf"
   },
   "outputs": [],
   "source": [
    "ensemble_data = np.column_stack((lstm_preds, bi_lstm_preds, stacked_lstm_preds,cnn_preds,qda_preds,lg_preds,dfnn_preds,knn_classifier_preds,lda_preds,rf_preds,adaboost_classifier_preds,bagging_classifier_preds,naive_bayes_classifier_preds,sgd_class_preds,dbn_model_preds,classifier_preds,ridge_classifier_preds))"
   ]
  },
  {
   "cell_type": "markdown",
   "metadata": {
    "id": "QisFqW9Wfqr6"
   },
   "source": [
    "#XGBoost classifier"
   ]
  },
  {
   "cell_type": "code",
   "execution_count": 68,
   "metadata": {
    "id": "AeiacD1MfuLu"
   },
   "outputs": [],
   "source": [
    "xgb_model = xgb.XGBClassifier(n_estimators=100, max_depth=3, learning_rate=0.1, random_state=42)"
   ]
  },
  {
   "cell_type": "markdown",
   "metadata": {
    "id": "YdypxQkTfxO4"
   },
   "source": [
    "# Train the XGBoost model"
   ]
  },
  {
   "cell_type": "code",
   "execution_count": 69,
   "metadata": {
    "id": "jODCiaqAgNEY"
   },
   "outputs": [
    {
     "data": {
      "text/plain": [
       "XGBClassifier(base_score=None, booster=None, callbacks=None,\n",
       "              colsample_bylevel=None, colsample_bynode=None,\n",
       "              colsample_bytree=None, device=None, early_stopping_rounds=None,\n",
       "              enable_categorical=False, eval_metric=None, feature_types=None,\n",
       "              gamma=None, grow_policy=None, importance_type=None,\n",
       "              interaction_constraints=None, learning_rate=0.1, max_bin=None,\n",
       "              max_cat_threshold=None, max_cat_to_onehot=None,\n",
       "              max_delta_step=None, max_depth=3, max_leaves=None,\n",
       "              min_child_weight=None, missing=nan, monotone_constraints=None,\n",
       "              multi_strategy=None, n_estimators=100, n_jobs=None,\n",
       "              num_parallel_tree=None, random_state=42, ...)"
      ]
     },
     "execution_count": 69,
     "metadata": {},
     "output_type": "execute_result"
    }
   ],
   "source": [
    "xgb_model.fit(ensemble_data, y_test)"
   ]
  },
  {
   "cell_type": "markdown",
   "metadata": {
    "id": "kSFkHi1zfzfT"
   },
   "source": [
    "# Generate predictions from the XGBoost model"
   ]
  },
  {
   "cell_type": "code",
   "execution_count": 70,
   "metadata": {
    "id": "v9veufLrgNu8"
   },
   "outputs": [],
   "source": [
    "xgb_preds = xgb_model.predict(ensemble_data)"
   ]
  },
  {
   "cell_type": "markdown",
   "metadata": {
    "id": "8Sobd7dhf2bb"
   },
   "source": [
    "# Evaluate the ensemble model"
   ]
  },
  {
   "cell_type": "code",
   "execution_count": 71,
   "metadata": {
    "id": "_xsOwEQzPwm4"
   },
   "outputs": [
    {
     "name": "stdout",
     "output_type": "stream",
     "text": [
      "Ensemble using XGBoost - Classification Report:\n",
      "              precision    recall  f1-score   support\n",
      "\n",
      "           0       0.98      0.93      0.95      1610\n",
      "           1       0.93      0.98      0.95      1574\n",
      "\n",
      "    accuracy                           0.95      3184\n",
      "   macro avg       0.96      0.95      0.95      3184\n",
      "weighted avg       0.96      0.95      0.95      3184\n",
      "\n"
     ]
    }
   ],
   "source": [
    "print(\"Ensemble using XGBoost - Classification Report:\")\n",
    "print(classification_report(y_test, xgb_preds))"
   ]
  },
  {
   "cell_type": "code",
   "execution_count": 72,
   "metadata": {
    "id": "gMg1Zn9JgISL"
   },
   "outputs": [
    {
     "name": "stdout",
     "output_type": "stream",
     "text": [
      "Ensemble using XGBoost - Accuracy Score:\n",
      "95.41457286432161\n"
     ]
    }
   ],
   "source": [
    "print(\"Ensemble using XGBoost - Accuracy Score:\")\n",
    "print(accuracy_score(y_test, xgb_preds)*100)"
   ]
  },
  {
   "cell_type": "markdown",
   "metadata": {
    "id": "5tAYHFhcTI49"
   },
   "source": [
    "#Model Comparision Plot"
   ]
  },
  {
   "cell_type": "code",
   "execution_count": 73,
   "metadata": {
    "id": "235-hjMbbHnP"
   },
   "outputs": [
    {
     "data": {
      "image/png": "[encoded data removed]",
      "text/plain": [
       "<Figure size 864x432 with 1 Axes>"
      ]
     },
     "metadata": {},
     "output_type": "display_data"
    }
   ],
   "source": [
    "import matplotlib.pyplot as plt\n",
    "import seaborn as sns\n",
    "import numpy as np\n",
    "\n",
    "# List of model names\n",
    "model_names = ['SGD Classifier', 'LSTM Model', 'Bi-LSTM Model', 'Stacked LSTM Model', '1D-CNN', 'QDA', 'Logistic Regression', 'DFNN', 'KNN', 'LDA', 'Random Forest', 'Bagging', 'Adaboost', 'Naive Bayes', 'DBN', 'Auto Encoders', 'Ridge Classifier']\n",
    "\n",
    "# Lists of corresponding model scores (replace with actual scores)\n",
    "precision_scores = [precision_sgd, lstm_precision, bi_lstm_precision, stacked_lstm_precision, cnn_precision, qda_precision, lg_precision, dfnn_precision, knn_precision, lda_precision, rf_precision, bagging_classifier_precision, adaboost_classifier_precision, naive_bayes_classifier_precision, dbn_precision, classifier_precision, precision_ridge]\n",
    "recall_scores = [recall_sgd, lstm_recall, bi_lstm_recall, stacked_lstm_recall, cnn_recall, qda_recall, lg_recall, dfnn_recall, knn_recall, lda_recall, rf_recall, bagging_classifier_recall, adaboost_classifier_recall, naive_bayes_classifier_recall, dbn_recall, classifier_recall, recall_ridge]\n",
    "accuracy_scores = [acc_score_sgd, lstm_accuracy, bi_lstm_accuracy, stacked_lstm_accuracy, cnn_accuracy, qda_accuracy, lg_accuracy, dfnn_accuracy, knn_accuracy, lda_accuracy, rf_accuracy, bagging_classifier_accuracy, adaboost_classifier_accuracy, naive_bayes_classifier_accuracy, dbn_accuracy, classifier_accuracy, acc_score_ridge]\n",
    "f1_scores = [f1_score_sgd, lstm_f1_score, bi_lstm_f1_score, stacked_lstm_f1_score, cnn_f1_score, qda_f1_score, lg_f1_score, dfnn_f1_score, knn_f1_score, lda_f1_score, rf_f1_score, bagging_classifier_f1_score, adaboost_classifier_f1_score, naive_bayes_classifier_f1_score, dbn_f1_score, classifier_f1_score, f1_score_ridge]\n",
    "\n",
    "# Create a bar plot for model comparison\n",
    "plt.figure(figsize=(12, 6))\n",
    "sns.set(style=\"whitegrid\")  # Optional, for a white grid background\n",
    "\n",
    "width = 0.18  # Width of each bar\n",
    "x = np.arange(len(model_names))\n",
    "\n",
    "plt.bar(x - 1.5 * width, accuracy_scores, width=width, label=\"Accuracy\", color=\"blue\")\n",
    "plt.bar(x - 0.5 * width, precision_scores, width=width, label=\"Precision\", color=\"green\")\n",
    "plt.bar(x + 0.5 * width, recall_scores, width=width, label=\"Recall\", color=\"red\")\n",
    "plt.bar(x + 1.5 * width, f1_scores, width=width, label=\"F1 Score\", color=\"purple\")\n",
    "\n",
    "# Set x-axis labels and title\n",
    "plt.xlabel('Models')\n",
    "plt.xticks(x, model_names, rotation=45, ha=\"right\")\n",
    "plt.title('Model Comparison - Precision, Recall, Accuracy, and F1 Score')\n",
    "\n",
    "# Add a legend\n",
    "plt.legend(loc=\"upper right\", bbox_to_anchor=(1.15, 1))\n",
    "\n",
    "# Display the plot\n",
    "plt.tight_layout()\n",
    "plt.show()\n"
   ]
  },
  {
   "cell_type": "code",
   "execution_count": 74,
   "metadata": {
    "id": "BWzpJmRZcyZz"
   },
   "outputs": [
    {
     "name": "stdout",
     "output_type": "stream",
     "text": [
      "Number of Rows: 15916\n",
      "Feature: Average Time Interval, Type: float64, Range: -3.66548656822e-05 to 1414.0549208035713\n",
      "Feature: Time Difference First-Last Packet, Type: float64, Range: -0.206037 to 79399.652131\n",
      "Feature: Average Rate of Window Size Growth, Type: float64, Range: -10.25 to 0.9960787671232876\n",
      "Feature: Average Rate of Sequence Number Increase, Type: float64, Range: -87646990.90178572 to 59947653.133928575\n",
      "Feature: ACK Packets, Type: int64, Range: 0 to 16346\n",
      "Feature: Average Packet Size, Type: float64, Range: 61.333333333333336 to 1097.6763925729442\n",
      "Feature: RST Packets, Type: int64, Range: 0 to 6\n",
      "Feature: TTL Standard Deviation, Type: float64, Range: 0.0 to 95.52042459679248\n",
      "Feature: Time Since First Frame (seconds), Type: float64, Range: 2.3e-05 to 1650982820.905813\n",
      "Feature: Total FIN Packets, Type: int64, Range: 0 to 8\n",
      "Feature: Total URG Packets, Type: int64, Range: 0 to 0\n",
      "Feature: Total PSH Packets, Type: int64, Range: 0 to 9943\n",
      "Feature: avg_payload_len, Type: float64, Range: 0.0 to 1328.4375\n",
      "Feature: std_dev_iat, Type: float64, Range: 2.27342829015e-05 to 2885.790007607192\n",
      "Feature: avg_iat_client, Type: float64, Range: -0.0001045471293916 to 1276797867.573225\n",
      "Feature: avg_iat_server, Type: float64, Range: -6.27014607425e-05 to 3167.4830226\n",
      "Feature: down/up_ratio, Type: float64, Range: 0.0 to 74.78500137350059\n",
      "Feature: Label, Type: int64, Range: 0 to 1\n"
     ]
    }
   ],
   "source": [
    "\n",
    "\n",
    "num_rows = len(df)\n",
    "\n",
    "\n",
    "print(f'Number of Rows: {num_rows}')\n",
    "\n",
    "\n",
    "for column in df.columns:\n",
    "    data_type = df[column].dtype\n",
    "    value_range = f'{df[column].min()} to {df[column].max()}'\n",
    "    print(f'Feature: {column}, Type: {data_type}, Range: {value_range}')\n"
   ]
  },
  {
   "cell_type": "code",
   "execution_count": null,
   "metadata": {},
   "outputs": [],
   "source": []
  }
 ],
 "metadata": {
  "colab": {
   "provenance": []
  },
  "kernelspec": {
   "display_name": "Python 3 (ipykernel)",
   "language": "python",
   "name": "python3"
  },
  "language_info": {
   "codemirror_mode": {
    "name": "ipython",
    "version": 3
   },
   "file_extension": ".py",
   "mimetype": "text/x-python",
   "name": "python",
   "nbconvert_exporter": "python",
   "pygments_lexer": "ipython3",
   "version": "3.9.12"
  }
 },
 "nbformat": 4,
 "nbformat_minor": 1
}
